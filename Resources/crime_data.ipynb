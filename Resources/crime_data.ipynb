{
 "cells": [
  {
   "cell_type": "code",
   "execution_count": null,
   "metadata": {},
   "outputs": [],
   "source": [
    "#Import dependencies\n",
    "from pathlib import Path\n",
    "import numpy as np\n",
    "import pandas as pd\n",
    "import datetime as dt\n",
    "from sqlalchemy import create_engine\n",
    "import sqlite3\n",
    "\n"
   ]
  },
  {
   "cell_type": "code",
   "execution_count": null,
   "metadata": {},
   "outputs": [],
   "source": [
    "# Read in csv file\n",
    "crime_data_df = pd.read_csv('crime_incident_data.csv')\n",
    "crime_data_df.head()"
   ]
  },
  {
   "cell_type": "code",
   "execution_count": null,
   "metadata": {},
   "outputs": [],
   "source": [
    "# Identify any missing data and drop if needed\n",
    "crime_data_df.count()"
   ]
  },
  {
   "cell_type": "code",
   "execution_count": null,
   "metadata": {},
   "outputs": [],
   "source": [
    "# Convert Date column to datetime\n",
    "crime_data_df['DATE'] = pd.to_datetime(crime_data_df['DATE'])\n",
    "crime_data_df.head()"
   ]
  },
  {
   "cell_type": "code",
   "execution_count": null,
   "metadata": {},
   "outputs": [],
   "source": [
    "# Add Year column and pull year from Date column\n",
    "crime_data_df['YEAR'] = crime_data_df['DATE'].dt.year\n",
    "crime_data_df.head()"
   ]
  },
  {
   "cell_type": "code",
   "execution_count": null,
   "metadata": {},
   "outputs": [],
   "source": [
    "# Add Month column and pull month from Date column\n",
    "crime_data_df['MONTH'] = crime_data_df['DATE'].dt.month_name()\n",
    "crime_data_df.head()"
   ]
  },
  {
   "cell_type": "code",
   "execution_count": null,
   "metadata": {},
   "outputs": [],
   "source": [
    "# Split Neighborhood name Column\n",
    "crime_data_df[['NEW_NEIGHBORHOOD_NUMBER', 'NEIGHBORHOOD']] = crime_data_df.NEIGHBORHOOD_NAME.str.split(\"-\", n=1, expand= True)\n",
    "crime_data_df.head()"
   ]
  },
  {
   "cell_type": "code",
   "execution_count": null,
   "metadata": {},
   "outputs": [],
   "source": [
    "# Retreive unique Incidents from Incident column\n",
    "unique_incidents = crime_data_df['INCIDENT'].unique()\n",
    "unique_incidents"
   ]
  },
  {
   "cell_type": "code",
   "execution_count": null,
   "metadata": {},
   "outputs": [],
   "source": [
    "# Clean up Incident designations. \n",
    "# Replace 'Agg. Assault Dom.' and 'Agg. Assault Dom' with 'Aggravated Assault Domestic', \n",
    "# Replace 'Theft' and 'THEFT' with 'Theft'\n",
    "# Replace 'Simple Assault Dom.' and 'Simple Assault Dom' with 'Simple Assault Domestic'\n",
    "# Replace 'Community Engagement Event' and 'Community Event' with 'Community Event'\n",
    "# Replace 'Proactive Police Visit' and 'Proactive Foot Patrol' with 'Proactive Patrol'\n",
    "\n",
    "crime_data_df['INCIDENT'] = crime_data_df['INCIDENT'].replace({'Agg. Assault Dom.': 'Aggravated Assault Domestic', 'Agg. Assault Dom': 'Aggravated Assault Domestic',\n",
    "                                                               'THEFT': 'Theft', 'Simple Asasult Dom.': 'Simple Assault Domestic', 'Simple Assault Dom': 'Simple Assault Domestic',\n",
    "                                                               'Community Engagement Event': 'Community Event', 'Proactive Police Visit': 'Proactive Patrol',\n",
    "                                                               'Proactive Foot Patrol': 'Proactive Patrol', 'Agg. Assault': 'Aggravated Assault',\n",
    "                                                               '0': 'Other'})\n",
    "crime_data_df.head()"
   ]
  },
  {
   "cell_type": "code",
   "execution_count": null,
   "metadata": {},
   "outputs": [],
   "source": [
    "# Check that Incident types were replaced\n",
    "new_unique = crime_data_df['INCIDENT'].unique()\n",
    "new_unique"
   ]
  },
  {
   "cell_type": "code",
   "execution_count": null,
   "metadata": {},
   "outputs": [],
   "source": [
    "# Drop Unnecessary columns\n",
    "crime_data_df = crime_data_df[['DATE', 'YEAR', 'MONTH', 'INCIDENT', 'NEIGHBORHOOD']]\n",
    "crime_data_df.head()\n"
   ]
  },
  {
   "cell_type": "code",
   "execution_count": null,
   "metadata": {},
   "outputs": [],
   "source": [
    "#establish connection to and create SQLite database\n",
    "conn = sqlite3.connect('stp_crime.db')"
   ]
  },
  {
   "cell_type": "code",
   "execution_count": null,
   "metadata": {},
   "outputs": [],
   "source": [
    "#write the DataFrame to the database and create table\n",
    "crime_table = 'stp_crime'\n",
    "crime_data_df.to_sql(crime_table, conn, if_exists='replace', index=False)\n"
   ]
  },
  {
   "cell_type": "code",
   "execution_count": null,
   "metadata": {},
   "outputs": [],
   "source": [
    "#Commit and close the connection\n",
    "conn.commit()\n",
    "conn.close()"
   ]
  }
 ],
 "metadata": {
  "kernelspec": {
   "display_name": "dev",
   "language": "python",
   "name": "python3"
  },
  "language_info": {
   "codemirror_mode": {
    "name": "ipython",
    "version": 3
   },
   "file_extension": ".py",
   "mimetype": "text/x-python",
   "name": "python",
   "nbconvert_exporter": "python",
   "pygments_lexer": "ipython3",
   "version": "3.10.12"
  }
 },
 "nbformat": 4,
 "nbformat_minor": 2
}
